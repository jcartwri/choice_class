{
 "cells": [
  {
   "cell_type": "code",
   "execution_count": 6,
   "metadata": {},
   "outputs": [
    {
     "name": "stderr",
     "output_type": "stream",
     "text": [
      "/home/kitos/.local/lib/python3.6/site-packages/tensorflow/python/framework/dtypes.py:516: FutureWarning: Passing (type, 1) or '1type' as a synonym of type is deprecated; in a future version of numpy, it will be understood as (type, (1,)) / '(1,)type'.\n",
      "  _np_qint8 = np.dtype([(\"qint8\", np.int8, 1)])\n",
      "/home/kitos/.local/lib/python3.6/site-packages/tensorflow/python/framework/dtypes.py:517: FutureWarning: Passing (type, 1) or '1type' as a synonym of type is deprecated; in a future version of numpy, it will be understood as (type, (1,)) / '(1,)type'.\n",
      "  _np_quint8 = np.dtype([(\"quint8\", np.uint8, 1)])\n",
      "/home/kitos/.local/lib/python3.6/site-packages/tensorflow/python/framework/dtypes.py:518: FutureWarning: Passing (type, 1) or '1type' as a synonym of type is deprecated; in a future version of numpy, it will be understood as (type, (1,)) / '(1,)type'.\n",
      "  _np_qint16 = np.dtype([(\"qint16\", np.int16, 1)])\n",
      "/home/kitos/.local/lib/python3.6/site-packages/tensorflow/python/framework/dtypes.py:519: FutureWarning: Passing (type, 1) or '1type' as a synonym of type is deprecated; in a future version of numpy, it will be understood as (type, (1,)) / '(1,)type'.\n",
      "  _np_quint16 = np.dtype([(\"quint16\", np.uint16, 1)])\n",
      "/home/kitos/.local/lib/python3.6/site-packages/tensorflow/python/framework/dtypes.py:520: FutureWarning: Passing (type, 1) or '1type' as a synonym of type is deprecated; in a future version of numpy, it will be understood as (type, (1,)) / '(1,)type'.\n",
      "  _np_qint32 = np.dtype([(\"qint32\", np.int32, 1)])\n",
      "/home/kitos/.local/lib/python3.6/site-packages/tensorflow/python/framework/dtypes.py:525: FutureWarning: Passing (type, 1) or '1type' as a synonym of type is deprecated; in a future version of numpy, it will be understood as (type, (1,)) / '(1,)type'.\n",
      "  np_resource = np.dtype([(\"resource\", np.ubyte, 1)])\n",
      "/home/kitos/.local/lib/python3.6/site-packages/tensorboard/compat/tensorflow_stub/dtypes.py:541: FutureWarning: Passing (type, 1) or '1type' as a synonym of type is deprecated; in a future version of numpy, it will be understood as (type, (1,)) / '(1,)type'.\n",
      "  _np_qint8 = np.dtype([(\"qint8\", np.int8, 1)])\n",
      "/home/kitos/.local/lib/python3.6/site-packages/tensorboard/compat/tensorflow_stub/dtypes.py:542: FutureWarning: Passing (type, 1) or '1type' as a synonym of type is deprecated; in a future version of numpy, it will be understood as (type, (1,)) / '(1,)type'.\n",
      "  _np_quint8 = np.dtype([(\"quint8\", np.uint8, 1)])\n",
      "/home/kitos/.local/lib/python3.6/site-packages/tensorboard/compat/tensorflow_stub/dtypes.py:543: FutureWarning: Passing (type, 1) or '1type' as a synonym of type is deprecated; in a future version of numpy, it will be understood as (type, (1,)) / '(1,)type'.\n",
      "  _np_qint16 = np.dtype([(\"qint16\", np.int16, 1)])\n",
      "/home/kitos/.local/lib/python3.6/site-packages/tensorboard/compat/tensorflow_stub/dtypes.py:544: FutureWarning: Passing (type, 1) or '1type' as a synonym of type is deprecated; in a future version of numpy, it will be understood as (type, (1,)) / '(1,)type'.\n",
      "  _np_quint16 = np.dtype([(\"quint16\", np.uint16, 1)])\n",
      "/home/kitos/.local/lib/python3.6/site-packages/tensorboard/compat/tensorflow_stub/dtypes.py:545: FutureWarning: Passing (type, 1) or '1type' as a synonym of type is deprecated; in a future version of numpy, it will be understood as (type, (1,)) / '(1,)type'.\n",
      "  _np_qint32 = np.dtype([(\"qint32\", np.int32, 1)])\n",
      "/home/kitos/.local/lib/python3.6/site-packages/tensorboard/compat/tensorflow_stub/dtypes.py:550: FutureWarning: Passing (type, 1) or '1type' as a synonym of type is deprecated; in a future version of numpy, it will be understood as (type, (1,)) / '(1,)type'.\n",
      "  np_resource = np.dtype([(\"resource\", np.ubyte, 1)])\n"
     ]
    }
   ],
   "source": [
    "import pandas as pd\n",
    "import numpy as np\n",
    "from pandas import ExcelWriter\n",
    "from pandas import ExcelFile\n",
    "import math\n",
    "import tensorflow as tf"
   ]
  },
  {
   "cell_type": "code",
   "execution_count": 2,
   "metadata": {},
   "outputs": [],
   "source": [
    "matr1 = pd.read_excel('/home/kitos/Документы/python_work/vector_model/matr1.xlsx')\n",
    "matr2 = pd.read_excel('/home/kitos/Документы/python_work/vector_model/matr2.xlsx')\n",
    "matr3 = pd.read_excel('/home/kitos/Документы/python_work/vector_model/matr3.xlsx')\n",
    "matr4 = pd.read_excel('/home/kitos/Документы/python_work/vector_model/matr3.xlsx')\n",
    "\n",
    "vector1 = pd.read_excel('/home/kitos/Документы/python_work/vector_model/vector1.xlsx')\n",
    "vector2 = pd.read_excel('/home/kitos/Документы/python_work/vector_model/vector2.xlsx')\n",
    "vector3 = pd.read_excel('/home/kitos/Документы/python_work/vector_model/vector3.xlsx')"
   ]
  },
  {
   "cell_type": "code",
   "execution_count": 3,
   "metadata": {},
   "outputs": [],
   "source": [
    "s_vector1 = pd.Series(vector1.res)\n",
    "s_vector2 = pd.Series(vector2.res)\n",
    "s_vector3 = pd.Series(vector3.res)\n",
    "\n",
    "s_vector1.name = None\n",
    "s_vector2.name = None\n",
    "s_vector3.name = None\n"
   ]
  },
  {
   "cell_type": "code",
   "execution_count": 4,
   "metadata": {},
   "outputs": [],
   "source": [
    "class Combination:\n",
    "    def __init__(self, matrx_input):\n",
    "        self.len_matr = len(matrx_input)\n",
    "        for i in range(len(matrx_input)):\n",
    "            del matrx_input[i][\"type\"]\n",
    "            if i == 0:\n",
    "                self.list_columns = list(matrx_input[0])\n",
    "            matrx_input[i].columns = range(matrx_input[i].shape[1])\n",
    "            matrx_input[i] /= matrx_input[i].sum(axis = 1).mean()\n",
    "        self.matrx = matrx_input\n",
    "\n",
    "    def ft_min_precision(self, mas):\n",
    "        for i in range(len(mas)):\n",
    "            if mas[i] == None:\n",
    "                continue\n",
    "            value = self.matrx[i][mas[i]][mas[i]]\n",
    "            for j in range(len(mas)):\n",
    "                if i == j or mas[j] == None:\n",
    "                    continue\n",
    "                if mas[i] == mas[j]:\n",
    "                    value *= self.matrx[j][mas[i]][[mas[i]]]\n",
    "                else:\n",
    "                    value *= (1 - self.matrx[j][mas[i]][mas[i]])\n",
    "            if value > self.v_value:\n",
    "                self.v_value = value\n",
    "                self.v_index = mas[i]\n",
    "\n",
    "    def decision_prec(self, mas1, begin, end, x, y, value):\n",
    "        if mas1[begin] is None or begin == x:\n",
    "            if begin != end:\n",
    "                self.decision_prec(mas1, begin + 1, end, x, y, value)\n",
    "            elif value > self.v_value:\n",
    "                    self.v_value = value\n",
    "                    self.v_index = mas1[x][y]\n",
    "            return ()\n",
    "        if begin == end:\n",
    "            for i in range(len(mas1[end])):\n",
    "                if mas1[end][i] == mas1[x][y]:\n",
    "                    val = self.matrx[begin][mas1[x][y]][mas1[x][y]]\n",
    "                else:\n",
    "                    val = 1.0 - self.matrx[begin][mas1[x][y]][mas1[x][y]]\n",
    "                if value * val > self.v_value:\n",
    "                    self.v_value = value * val\n",
    "                    self.v_index = mas1[x][y]\n",
    "            return ()\n",
    "        for j in range(len(mas1[begin])):\n",
    "            if mas1[begin][j] == mas1[x][y]:\n",
    "                val = self.matrx[begin][mas1[x][y]][mas1[x][y]]\n",
    "            else:\n",
    "                val = 1.0 - self.matrx[begin][mas1[x][y]][mas1[x][y]]\n",
    "            self.decision_prec(mas1, begin + 1, end, x, y, value * val)\n",
    "\n",
    "    def ft_full_brute_force(self, mas1, begin, end):\n",
    "        if mas1[begin] is None:\n",
    "            if begin == end:\n",
    "                return()\n",
    "            else:\n",
    "                self.ft_full_brute_force(mas1, begin + 1, end)\n",
    "            return ()\n",
    "        if begin == end:\n",
    "            for i in range(len(mas1[end])):\n",
    "                ind = mas1[begin][i]\n",
    "                self.decision_prec(mas1, 0, end, begin, i, self.matrx[begin][ind][ind])\n",
    "            return ()\n",
    "        for j in range(len(mas1[begin])):\n",
    "            ind = mas1[begin][j]\n",
    "            self.decision_prec(mas1, 0, end, begin, j, self.matrx[begin][ind][ind])\n",
    "        self.ft_full_brute_force(mas1, begin + 1, end)\n",
    "\n",
    "    def algorithm(self, vector_input):\n",
    "        mas = []\n",
    "        std1 = []\n",
    "        std2 = []\n",
    "        if sum(x is not None for x in vector_input) == 0 or len(vector_input) != self.len_matr:\n",
    "            print(\"Error\")\n",
    "            return -1\n",
    "        for i in range(len(vector_input)):\n",
    "            if (vector_input[i] is None):\n",
    "                mas.append(i)\n",
    "                std1.append(None)\n",
    "                std2.append(None)\n",
    "            else:\n",
    "                vector_input[i] = vector_input[i] / 100.0\n",
    "                std = list((self.matrx[i].subtract(vector_input[i], axis=1)**2).sum(axis=1)**0.5)\n",
    "                s_min = min(std)\n",
    "                m = [i for i in range(len(std)) if (-0.05 < std[i] - s_min < 0.05)]\n",
    "                std1.append(m)\n",
    "                std2.append(std.index(s_min))\n",
    "        self.v_index = -1\n",
    "        self.v_value = 0\n",
    "        if sum(x is not None for x in std2) < 6:\n",
    "            self.ft_full_brute_force(std1, 0, std1.index(std1[-1]))\n",
    "        else:\n",
    "            self.ft_min_precision(std2)\n",
    "        return 1"
   ]
  },
  {
   "cell_type": "code",
   "execution_count": 5,
   "metadata": {},
   "outputs": [
    {
     "name": "stdout",
     "output_type": "stream",
     "text": [
      "CARD\n",
      "37\n"
     ]
    }
   ],
   "source": [
    "C = Combination([matr1, matr2, matr3])\n",
    "\n",
    "if C.algorithm([s_vector1, s_vector2, s_vector3]) != -1:\n",
    "    print (C.list_columns[C.v_index])\n",
    "print (len(C.list_columns))"
   ]
  },
  {
   "cell_type": "code",
   "execution_count": null,
   "metadata": {},
   "outputs": [],
   "source": []
  }
 ],
 "metadata": {
  "kernelspec": {
   "display_name": "Python 3",
   "language": "python",
   "name": "python3"
  },
  "language_info": {
   "codemirror_mode": {
    "name": "ipython",
    "version": 3
   },
   "file_extension": ".py",
   "mimetype": "text/x-python",
   "name": "python",
   "nbconvert_exporter": "python",
   "pygments_lexer": "ipython3",
   "version": "3.6.8"
  }
 },
 "nbformat": 4,
 "nbformat_minor": 2
}
